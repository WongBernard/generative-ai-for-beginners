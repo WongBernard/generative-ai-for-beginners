{
  "cells": [
    {
      "cell_type": "markdown",
      "metadata": {
        "id": "EG_VLfdwiYQP"
      },
      "source": [
        "# Regression\n",
        "[![Open in Colab](https://colab.research.google.com/assets/colab-badge.svg)](https://colab.research.google.com/github/google/yggdrasil-decision-forests/blob/main/documentation/public/docs/tutorial/regression.ipynb)\n"
      ]
    },
    {
      "cell_type": "markdown",
      "metadata": {
        "id": "6xrrp3PBiYQR"
      },
      "source": [
        "## Setup"
      ]
    },
    {
      "cell_type": "code",
      "execution_count": null,
      "metadata": {
        "id": "q_k5xe1JiYQS"
      },
      "outputs": [],
      "source": [
        "pip install ydf -U"
      ]
    },
    {
      "cell_type": "markdown",
      "metadata": {
        "id": "InuGpd1JiYQS"
      },
      "source": [
        "## What is regression?\n",
        "\n",
        "\n",
        "**Regression,** is the task of predicting a numerical value, such as a tally, a measure, or a quantity. For instance, predicting the age of an animal or the cost of a product are regression problems. By default, the output of a regression model is the expected value, that is, the value that minimizes the squared error.\n",
        "Regression labels can be integers or float values."
      ]
    },
    {
      "cell_type": "markdown",
      "metadata": {
        "id": "k5AAGsn-iYQT"
      },
      "source": [
        "## Training a regression model\n",
        "\n",
        "The task of a model (e.g., classification, regression, ranking, uplifting) is determined by the learner argument `task`.\n"
      ]
    },
    {
      "cell_type": "code",
      "execution_count": null,
      "metadata": {
        "id": "3WdGJVSBiYQT"
      },
      "outputs": [],
      "source": [
        "# Load libraries\n",
        "import ydf  # Yggdrasil Decision Forests\n",
        "import pandas as pd  # We use Pandas to load small datasets\n",
        "\n",
        "# Download a classification dataset and load it as a Pandas DataFrame.\n",
        "ds_path = \"https://raw.githubusercontent.com/google/yggdrasil-decision-forests/main/yggdrasil_decision_forests/test_data/dataset\"\n",
        "all_ds = pd.read_csv(f\"{ds_path}/abalone.csv\")\n",
        "\n",
        "# Randomly split the dataset into a training (70%) and testing (30%) dataset\n",
        "all_ds = all_ds.sample(frac=1)\n",
        "split_idx = len(all_ds) * 7 // 10\n",
        "train_ds = all_ds.iloc[:split_idx]\n",
        "test_ds = all_ds.iloc[split_idx:]\n",
        "\n",
        "# Print the first 5 training examples\n",
        "train_ds.head(5)"
      ]
    },
    {
      "cell_type": "markdown",
      "metadata": {
        "id": "IUiG9fLZiYQT"
      },
      "source": [
        "The label column is:"
      ]
    },
    {
      "cell_type": "code",
      "execution_count": null,
      "metadata": {
        "id": "Gj57pyrxiYQU"
      },
      "outputs": [],
      "source": [
        "train_ds[\"Rings\"]"
      ]
    },
    {
      "cell_type": "markdown",
      "metadata": {
        "id": "d_rHP7xjiYQU"
      },
      "source": [
        "We can train a regression model:"
      ]
    },
    {
      "cell_type": "code",
      "execution_count": null,
      "metadata": {
        "id": "i4KdVNdMiYQU"
      },
      "outputs": [],
      "source": [
        "model = ydf.GradientBoostedTreesLearner(label=\"Rings\",\n",
        "                                task=ydf.Task.REGRESSION).train(train_ds)"
      ]
    },
    {
      "cell_type": "markdown",
      "metadata": {
        "id": "Z57nqnhpiYQU"
      },
      "source": [
        "Regression models are evaluated using RMSE (root mean square error)."
      ]
    },
    {
      "cell_type": "code",
      "execution_count": null,
      "metadata": {
        "id": "e6fJi-F9iYQU"
      },
      "outputs": [],
      "source": [
        "evaluation = model.evaluate(test_ds)\n",
        "\n",
        "print(evaluation)"
      ]
    },
    {
      "cell_type": "markdown",
      "metadata": {
        "id": "8P91uZydiYQV"
      },
      "source": [
        "You can plot a rich evaluation with more plots."
      ]
    },
    {
      "cell_type": "code",
      "execution_count": null,
      "metadata": {
        "id": "AMP5GPs4iYQV"
      },
      "outputs": [],
      "source": [
        "evaluation"
      ]
    },
    {
      "cell_type": "code",
      "source": [
        "import pandas as pd\n",
        "data = pd.read_csv('/content/drive/MyDrive/dataset/Building_X.csv')"
      ],
      "metadata": {
        "id": "72QRrVxzidaO"
      },
      "execution_count": null,
      "outputs": []
    }
  ],
  "metadata": {
    "colab": {
      "private_outputs": true,
      "provenance": [],
      "include_colab_link": true
    },
    "kernelspec": {
      "display_name": "Python 3",
      "language": "python",
      "name": "python3"
    },
    "language_info": {
      "codemirror_mode": {
        "name": "ipython",
        "version": 3
      },
      "file_extension": ".py",
      "mimetype": "text/x-python",
      "name": "python",
      "nbconvert_exporter": "python",
      "pygments_lexer": "ipython3",
      "version": "3.11.5"
    }
  },
  "nbformat": 4,
  "nbformat_minor": 0
}
