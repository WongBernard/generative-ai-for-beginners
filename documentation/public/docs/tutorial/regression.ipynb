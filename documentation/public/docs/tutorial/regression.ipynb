{
  "cells": [
    {
      "cell_type": "markdown",
      "metadata": {
        "id": "EG_VLfdwiYQP"
      },
      "source": [
        "# Regression\n",
        "[![Open in Colab](https://colab.research.google.com/assets/colab-badge.svg)](https://colab.research.google.com/github/google/yggdrasil-decision-forests/blob/main/documentation/public/docs/tutorial/regression.ipynb)\n"
      ]
    },
    {
      "cell_type": "markdown",
      "metadata": {
        "id": "6xrrp3PBiYQR"
      },
      "source": [
        "## Setup"
      ]
    },
    {
      "cell_type": "code",
      "execution_count": null,
      "metadata": {
        "id": "q_k5xe1JiYQS"
      },
      "outputs": [],
      "source": [
        "pip install ydf -U"
      ]
    },
    {
      "cell_type": "markdown",
      "metadata": {
        "id": "InuGpd1JiYQS"
      },
      "source": [
        "## What is regression?\n",
        "\n",
        "\n",
        "**Regression,** is the task of predicting a numerical value, such as a tally, a measure, or a quantity. For instance, predicting the age of an animal or the cost of a product are regression problems. By default, the output of a regression model is the expected value, that is, the value that minimizes the squared error.\n",
        "Regression labels can be integers or float values."
      ]
    },
    {
      "cell_type": "markdown",
      "metadata": {
        "id": "k5AAGsn-iYQT"
      },
      "source": [
        "## Training a regression model\n",
        "\n",
        "The task of a model (e.g., classification, regression, ranking, uplifting) is determined by the learner argument `task`.\n"
      ]
    },
    {
      "cell_type": "code",
      "execution_count": null,
      "metadata": {
        "id": "3WdGJVSBiYQT"
      },
      "outputs": [],
      "source": [
        "# Load libraries\n",
        "import ydf  # Yggdrasil Decision Forests\n",
        "import pandas as pd  # We use Pandas to load small datasets\n",
        "\n",
        "# Download a classification dataset and load it as a Pandas DataFrame.\n",
        "ds_path = \"https://raw.githubusercontent.com/google/yggdrasil-decision-forests/main/yggdrasil_decision_forests/test_data/dataset\"\n",
        "all_ds = pd.read_csv(f\"{ds_path}/abalone.csv\")\n",
        "\n",
        "# Randomly split the dataset into a training (70%) and testing (30%) dataset\n",
        "all_ds = all_ds.sample(frac=1)\n",
        "split_idx = len(all_ds) * 7 // 10\n",
        "train_ds = all_ds.iloc[:split_idx]\n",
        "test_ds = all_ds.iloc[split_idx:]\n",
        "\n",
        "# Print the first 5 training examples\n",
        "train_ds.head(5)"
      ]
    },
    {
      "cell_type": "markdown",
      "metadata": {
        "id": "IUiG9fLZiYQT"
      },
      "source": [
        "The label column is:"
      ]
    },
    {
      "cell_type": "code",
      "execution_count": null,
      "metadata": {
        "id": "Gj57pyrxiYQU"
      },
      "outputs": [],
      "source": [
        "train_ds[\"Rings\"]"
      ]
    },
    {
      "cell_type": "markdown",
      "metadata": {
        "id": "d_rHP7xjiYQU"
      },
      "source": [
        "We can train a regression model:"
      ]
    },
    {
      "cell_type": "code",
      "execution_count": null,
      "metadata": {
        "id": "i4KdVNdMiYQU"
      },
      "outputs": [],
      "source": [
        "model = ydf.GradientBoostedTreesLearner(label=\"Rings\",\n",
        "                                task=ydf.Task.REGRESSION).train(train_ds)"
      ]
    },
    {
      "cell_type": "markdown",
      "metadata": {
        "id": "Z57nqnhpiYQU"
      },
      "source": [
        "Regression models are evaluated using RMSE (root mean square error)."
      ]
    },
    {
      "cell_type": "code",
      "execution_count": null,
      "metadata": {
        "id": "e6fJi-F9iYQU"
      },
      "outputs": [],
      "source": [
        "evaluation = model.evaluate(test_ds)\n",
        "\n",
        "print(evaluation)"
      ]
    },
    {
      "cell_type": "markdown",
      "metadata": {
        "id": "8P91uZydiYQV"
      },
      "source": [
        "You can plot a rich evaluation with more plots."
      ]
    },
    {
      "cell_type": "code",
      "execution_count": null,
      "metadata": {
        "id": "AMP5GPs4iYQV"
      },
      "outputs": [],
      "source": [
        "evaluation"
      ]
    },
    {
      "cell_type": "markdown",
      "source": [
        "Get Started"
      ],
      "metadata": {
        "id": "1AfTkkrsmQG0"
      }
    },
    {
      "cell_type": "code",
      "source": [
        "import pandas as pd\n",
        "import numpy as np\n",
        "import matplotlib.pyplot as plt"
      ],
      "metadata": {
        "id": "eKA5PQTOmfza"
      },
      "execution_count": null,
      "outputs": []
    },
    {
      "cell_type": "code",
      "source": [
        "\n",
        "df_csv = pd.read_csv(\"/content/drive/MyDrive/dataset/Building_X.csv\")\n",
        "df_csv[\"record_timestamp\"] = pd.to_datetime(df_csv[\"record_timestamp\"], format='%d/%m/%Y %H:%M')\n",
        "df_csv[\"total_cooling_load\"] = 4.19 * (df_csv[\"CHR-01-CHWFWR\"] * abs(df_csv[\"CHR-01-CHWRWT\"] - df_csv[\"CHR-01-CHWSWT\"]) + df_csv[\"CHR-02-CHWFWR\"] * abs(df_csv[\"CHR-02-CHWRWT\"] - df_csv[\"CHR-02-CHWSWT\"]) + df_csv[\"CHR-03-CHWFWR\"] * abs(df_csv[\"CHR-03-CHWRWT\"] - df_csv[\"CHR-03-CHWSWT\"]))\n",
        "df_csv[\"total_power_consumption\"] = df_csv[\"CHR-01-KW\"] + df_csv[\"CHR-02-KW\"] + df_csv[\"CHR-03-KW\"]\n",
        "df_csv[\"how_many_chiller\"] = (df_csv[\"CHR-01-KW\"] > 0).astype(int) + 2*(df_csv[\"CHR-02-KW\"] > 0).astype(int) + 4*(df_csv[\"CHR-03-KW\"] > 0).astype(int)\n",
        "\n",
        "temp_csv = pd.read_csv(\"/content/drive/MyDrive/dataset/air_temperature_merged_sampled_10T.csv\")\n",
        "temp_csv[\"record_timestamp\"] = pd.to_datetime(temp_csv[\"date_time\"], format='%Y-%m-%d %H:%M:%S')\n",
        "temp_csv = temp_csv.drop(\"date_time\", axis=1)\n",
        "\n",
        "humi_csv = pd.read_csv('/content/drive/MyDrive/dataset/humidity_merged_sampled_linear_10T.csv')\n",
        "humi_csv[\"record_timestamp\"] = pd.to_datetime(humi_csv[\"date_time\"], format='%Y-%m-%d %H:%M:%S')\n",
        "humi_csv = humi_csv.drop([\"date_time\", \"Unnamed: 0\"], axis=1)\n",
        "humi_csv.columns = humi_csv.columns.str.replace(\"Temperature\", \"Humidity\")"
      ],
      "metadata": {
        "id": "72QRrVxzidaO"
      },
      "execution_count": null,
      "outputs": []
    },
    {
      "cell_type": "code",
      "source": [
        "all_ds = pd.DataFrame(pd.date_range(start='2023-01-01 00:00', end='2023-12-31 23:00', freq='h'), columns=['record_timestamp'])\n",
        "all_ds = pd.merge(all_ds, df_csv[['record_timestamp', 'total_cooling_load']], how='left', on='record_timestamp')\n",
        "all_ds = pd.merge(all_ds, temp_csv, how='left', on='record_timestamp')\n",
        "all_ds = pd.merge(all_ds, humi_csv, how='left', on='record_timestamp')\n",
        "# fig, ax = plt.subplots(figsize=(30,30))\n",
        "# # sns.heatmap(new.corr(), annot=True, linewidths=.5, ax=ax)\n",
        "\n",
        "all_ds[\"month\"] = all_ds[\"record_timestamp\"].dt.month\n",
        "all_ds[\"hour\"] = all_ds[\"record_timestamp\"].dt.hour\n",
        "all_ds[\"weekday\"] = all_ds[\"record_timestamp\"].dt.weekday.apply(lambda x: True if x <= 4 else False)\n",
        "all_ds[\"weekend\"] = all_ds[\"record_timestamp\"].dt.weekday.apply(lambda x: True if x >= 5 else False)\n",
        "\n",
        "holidays = pd.to_datetime(['2023-01-02', '2023-01-23','2023-01-24','2023-01-25','2023-04-05','2023-04-07','2023-04-08','2023-04-10',\n",
        "                           '2023-05-01','2023-05-26','2023-06-22','2023-07-01','2023-09-30','2023-10-02','2023-10-23','2023-12-25','2023-12-26']).date\n",
        "all_ds['is_holiday'] = all_ds['record_timestamp'].dt.date.isin(holidays)\n",
        "\n",
        "all_ds = all_ds.drop(\"record_timestamp\", axis=1)\n",
        "\n",
        "all_ds = all_ds[all_ds['total_cooling_load'].notna()]\n",
        "\n",
        "# all_ds = all_ds.drop()"
      ],
      "metadata": {
        "id": "DU8lsMYamaU4"
      },
      "execution_count": null,
      "outputs": []
    },
    {
      "cell_type": "code",
      "source": [
        "from sklearn.model_selection import train_test_split\n",
        "\n",
        "# splt_idx = len(all_ds) * 7 // 10\n",
        "# train_ds = all_ds.iloc[:splt_idx]\n",
        "# test_ds = all_ds.iloc[splt_idx:]\n",
        "\n",
        "train_dataset, test_dataset = train_test_split(\n",
        "    all_ds, test_size=0.3, random_state=1234\n",
        ")\n",
        "\n",
        "tuner = ydf.RandomSearchTuner(num_trials=50)\n",
        "tuner.choice(\"shrinkage\", [0.2, 0.1, 0.05])\n",
        "tuner.choice(\"subsample\", [1.0, 0.9, 0.8])\n",
        "tuner.choice(\"max_depth\", [3, 4, 5, 6])\n",
        "\n",
        "train_dataset.head(5)"
      ],
      "metadata": {
        "id": "5DK1VVNOmwzt"
      },
      "execution_count": null,
      "outputs": []
    },
    {
      "cell_type": "code",
      "source": [
        "train_dataset[\"total_cooling_load\"]"
      ],
      "metadata": {
        "id": "Wu8SmoLenBRJ"
      },
      "execution_count": null,
      "outputs": []
    },
    {
      "cell_type": "code",
      "source": [
        "model = ydf.GradientBoostedTreesLearner(label=\"total_cooling_load\",\n",
        "                                        task=ydf.Task.REGRESSION,\n",
        "                                        num_trees=1000,\n",
        "                                        tuner=tuner\n",
        "                                      ).train(train_dataset)"
      ],
      "metadata": {
        "id": "hEd36nj0nVWl"
      },
      "execution_count": null,
      "outputs": []
    },
    {
      "cell_type": "code",
      "source": [
        "model.analyze_prediction(test_dataset.iloc[:1])"
      ],
      "metadata": {
        "id": "Tzv2tuYYoWn9"
      },
      "execution_count": null,
      "outputs": []
    },
    {
      "cell_type": "code",
      "source": [
        "evaluation = model.evaluate(test_dataset)\n",
        "evaluation"
      ],
      "metadata": {
        "id": "PwOTWAqOopXM"
      },
      "execution_count": null,
      "outputs": []
    },
    {
      "cell_type": "code",
      "source": [
        "predict_ds = pd.DataFrame(pd.date_range(start='2024-01-01 00:00', end='2024-01-30 23:00', freq='h'), columns=['record_timestamp'])\n",
        "predict_ds = pd.merge(predict_ds, temp_csv, how='left', on='record_timestamp')\n",
        "predict_ds = pd.merge(predict_ds, humi_csv, how='left', on='record_timestamp')\n",
        "\n",
        "predict_ds[\"month\"] = predict_ds[\"record_timestamp\"].dt.month\n",
        "predict_ds[\"hour\"] = predict_ds[\"record_timestamp\"].dt.hour\n",
        "predict_ds[\"weekday\"] = predict_ds[\"record_timestamp\"].dt.weekday.apply(lambda x: True if x <= 4 else False)\n",
        "predict_ds[\"weekend\"] = predict_ds[\"record_timestamp\"].dt.weekday.apply(lambda x: True if x >= 5 else False)\n",
        "\n",
        "holidays = pd.to_datetime(['2024-01-01']).date\n",
        "predict_ds['is_holiday'] = predict_ds['record_timestamp'].dt.date.isin(holidays)\n",
        "\n",
        "predict_ds"
      ],
      "metadata": {
        "id": "3CjhriV6vYDc"
      },
      "execution_count": null,
      "outputs": []
    },
    {
      "cell_type": "code",
      "source": [
        "predict_ds = predict_ds.drop(\"record_timestamp\", axis=1)\n",
        "\n",
        "predict_ds[\"total_cooling_load\"] = 0\n",
        "\n",
        "predict_ds.head(5)"
      ],
      "metadata": {
        "id": "KimBdFd0zVXy"
      },
      "execution_count": null,
      "outputs": []
    },
    {
      "cell_type": "code",
      "source": [
        "result = pd.DataFrame(model.predict(predict_ds))"
      ],
      "metadata": {
        "id": "oMuxU2p9w6pt"
      },
      "execution_count": null,
      "outputs": []
    },
    {
      "cell_type": "code",
      "source": [
        "result.to_csv(\"/content/drive/MyDrive/dataset/predict02.csv\")"
      ],
      "metadata": {
        "id": "i0B_oCKFykyX"
      },
      "execution_count": null,
      "outputs": []
    }
  ],
  "metadata": {
    "colab": {
      "private_outputs": true,
      "provenance": []
    },
    "kernelspec": {
      "display_name": "Python 3",
      "language": "python",
      "name": "python3"
    },
    "language_info": {
      "codemirror_mode": {
        "name": "ipython",
        "version": 3
      },
      "file_extension": ".py",
      "mimetype": "text/x-python",
      "name": "python",
      "nbconvert_exporter": "python",
      "pygments_lexer": "ipython3",
      "version": "3.11.5"
    }
  },
  "nbformat": 4,
  "nbformat_minor": 0
}